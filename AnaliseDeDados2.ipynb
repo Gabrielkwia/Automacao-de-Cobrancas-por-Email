{
  "nbformat": 4,
  "nbformat_minor": 0,
  "metadata": {
    "colab": {
      "provenance": [],
      "mount_file_id": "1fsp3et80ETBQluUKXw-vPzCucQGhPVPt",
      "authorship_tag": "ABX9TyPsHSbXpUssD8Nfz2rX3Shn",
      "include_colab_link": true
    },
    "kernelspec": {
      "name": "python3",
      "display_name": "Python 3"
    },
    "language_info": {
      "name": "python"
    }
  },
  "cells": [
    {
      "cell_type": "markdown",
      "metadata": {
        "id": "view-in-github",
        "colab_type": "text"
      },
      "source": [
        "<a href=\"https://colab.research.google.com/github/Gabrielkwia/Automacao-de-Cobrancas-por-Email/blob/main/AnaliseDeDados2.ipynb\" target=\"_parent\"><img src=\"https://colab.research.google.com/assets/colab-badge.svg\" alt=\"Open In Colab\"/></a>"
      ]
    },
    {
      "cell_type": "code",
      "execution_count": null,
      "metadata": {
        "id": "5HG1SrTThaiD"
      },
      "outputs": [],
      "source": [
        "# Importando bibliotecas para o projeto (Pandas para análise de dados & Datime para trabalhar com datas e horas)\n",
        "import pandas as pd\n",
        "from datetime import datetime\n",
        "# Para envio de email\n",
        "import smtplib\n",
        "from email.mime.text import MIMEText"
      ]
    },
    {
      "cell_type": "code",
      "source": [
        "# Definindo o caminho para o arquivo e definine uma variavel para ele \"df\"\n",
        "df = pd.read_excel(\"/content/drive/MyDrive/AnaliseDeDados/contas a receber.xlsx\")"
      ],
      "metadata": {
        "id": "ZPOKdFDDH6ql"
      },
      "execution_count": null,
      "outputs": []
    },
    {
      "cell_type": "code",
      "source": [
        "# Mostra as informações do seu DataFrame\n",
        "df.info()"
      ],
      "metadata": {
        "id": "NaB2ofL9Nvll"
      },
      "execution_count": null,
      "outputs": []
    },
    {
      "cell_type": "code",
      "source": [
        "# Mostra a coluna \"Valor em aberto\"\n",
        "df[\"Valor em aberto\"]"
      ],
      "metadata": {
        "id": "M1SfbIXBG8KT"
      },
      "execution_count": null,
      "outputs": []
    },
    {
      "cell_type": "code",
      "source": [
        "# O unique mostra todos os valores na coluna sem repetir eles\n",
        "df[\"Valor em aberto\"].unique()"
      ],
      "metadata": {
        "id": "DlPDM4NAM4HT"
      },
      "execution_count": null,
      "outputs": []
    },
    {
      "cell_type": "code",
      "source": [
        "# Replace substitui todos os pontos por nada, ou seja, remove os pontos\n",
        "df[\"Valor em aberto\"] = df[\"Valor em aberto\"].str.replace(\".\", \"\")\n",
        "df[\"Valor em aberto\"].unique()"
      ],
      "metadata": {
        "id": "A3PU3NuYG8N5"
      },
      "execution_count": null,
      "outputs": []
    },
    {
      "cell_type": "code",
      "source": [
        "# Replace troca a virgula por pontos e remove o R$\n",
        "df[\"Valor em aberto\"] = df[\"Valor em aberto\"].str.replace(\",\", \".\").str.replace(\"R$ \", \"\")\n",
        "df[\"Valor em aberto\"].unique()"
      ],
      "metadata": {
        "id": "sliCGCJpIHiS"
      },
      "execution_count": null,
      "outputs": []
    },
    {
      "cell_type": "code",
      "source": [
        "# df[\"Valor em aberto\"] = df[\"Valor em aberto\"].str.replace(\"R$ \", \"\")\n",
        "# df[\"Valor em aberto\"].unique()"
      ],
      "metadata": {
        "id": "kYePfl6tK4tu"
      },
      "execution_count": null,
      "outputs": []
    },
    {
      "cell_type": "code",
      "source": [
        "# Transformando em numerico\n",
        "df[\"Valor em aberto\"] = pd.to_numeric(df[\"Valor em aberto\"])"
      ],
      "metadata": {
        "id": "Nm__yuVpK4xv"
      },
      "execution_count": null,
      "outputs": []
    },
    {
      "cell_type": "code",
      "source": [
        "# sort_values ordena os valores em forma crescente\n",
        "df.sort_values(by = \"Valor em aberto\")"
      ],
      "metadata": {
        "id": "P84UOE0kK45k"
      },
      "execution_count": null,
      "outputs": []
    },
    {
      "cell_type": "code",
      "source": [
        "# Cria uma nova variavel e armazena os dados filtrados que estejam cm a coluna \"Status\" como \"Atrasada\"\n",
        "df_atrasados = df[ df[\"Status\"] == \"Atrasado\" ]"
      ],
      "metadata": {
        "id": "HaWizgshPyn0"
      },
      "execution_count": null,
      "outputs": []
    },
    {
      "cell_type": "code",
      "source": [
        "# Mostra todos os que estão com status atrasado\n",
        "df_atrasados"
      ],
      "metadata": {
        "id": "-pe4UPShPyqs"
      },
      "execution_count": null,
      "outputs": []
    },
    {
      "cell_type": "code",
      "source": [
        "# Mostra o numero de devedores usando o f-string\n",
        "print(f\"O numero de devedores do periodo é de {df_atrasados['CPF'].nunique()} clientes\")"
      ],
      "metadata": {
        "id": "mleShyZYPyta"
      },
      "execution_count": null,
      "outputs": []
    },
    {
      "cell_type": "code",
      "source": [
        "# Esse loop passa por cada linha do Dataframe e imprime os dados correspondentes\n",
        "for x in df_atrasados.iterrows():\n",
        "  print(x)"
      ],
      "metadata": {
        "id": "kiCE4pEPWoes"
      },
      "execution_count": null,
      "outputs": []
    },
    {
      "cell_type": "code",
      "source": [
        "# Configurações Iniciais para disparar o email / Conectando com o servidor\n",
        "smtp_server = \"smtp.gmail.com\"\n",
        "smtp_port = 587\n",
        "email_usuario = \"gabrielmaneira048@gmail.com\"\n",
        "email_senha = \"fkzi wzez vjur vxlf\"\n",
        "remetente_nome = \"Financeiro\"\n",
        "\n",
        "print(\"Conectando ao servidor\")\n",
        "server = smtplib.SMTP(smtp_server, smtp_port)\n",
        "server.starttls()\n",
        "server.login(email_usuario, email_senha)\n",
        "print(\"Login realizado com sucesso\")\n",
        "\n",
        "# Organiza as informações de cada conta atrasada para que possam ser utilizadas, para gerar um aviso de e-mail personalizado\n",
        "for indice, linha in df_atrasados.iterrows():\n",
        "  destinatario = linha['E-mail']\n",
        "  nf = linha[\"NF\"]\n",
        "  valor = linha[\"Valor em aberto\"]\n",
        "  prazo = linha[\"Data Prevista para pagamento\"]\n",
        "  assunto = f\"Aviso sobre atraso no pagamento da {nf}\"\n",
        "\n",
        "# Mensagem que sera enviada no email de todos que estao com conta em atraso\n",
        "  corpo_mensagem = f'''\n",
        "\n",
        "  Prezado(a) cliente,\n",
        "\n",
        "  Notamos que não houve o pagamento referente ao seu pedido com nota {nf}, no valor de {valor} que teve o prazo\n",
        "  limite na data de {prazo}. Qual a expectativa para quitar o debito em aberto?\n",
        "\n",
        "  Atenciosamente,\n",
        "  {remetente_nome}\n",
        "  '''\n",
        "# Constroi o corpo do email, define o tipo de texto, assunto, remetende e distinatário\n",
        "  mensagem = MIMEText(corpo_mensagem, 'plain', 'utf-8')\n",
        "  mensagem[\"Subject\"] = assunto\n",
        "  mensagem[\"From\"] = f\"{remetente_nome} <{email_usuario}>\"\n",
        "  mensagem[\"To\"] = destinatario\n",
        "\n",
        "# Envia de fato o email ao destinatário\n",
        "  server.sendmail(email_usuario, destinatario, mensagem.as_string())\n",
        "\n",
        "  print(f\" Email enviado com sucesso referente a nota {nf}\")\n",
        "\n"
      ],
      "metadata": {
        "id": "dsk6OUtOQf0U"
      },
      "execution_count": null,
      "outputs": []
    }
  ]
}